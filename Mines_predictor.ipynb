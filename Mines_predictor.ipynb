{
  "nbformat": 4,
  "nbformat_minor": 0,
  "metadata": {
    "colab": {
      "provenance": [],
      "gpuType": "T4",
      "authorship_tag": "ABX9TyMMd1+PWzZJJFh43OkuOGwO",
      "include_colab_link": true
    },
    "kernelspec": {
      "name": "python3",
      "display_name": "Python 3"
    },
    "language_info": {
      "name": "python"
    },
    "accelerator": "GPU"
  },
  "cells": [
    {
      "cell_type": "markdown",
      "metadata": {
        "id": "view-in-github",
        "colab_type": "text"
      },
      "source": [
        "<a href=\"https://colab.research.google.com/github/Arjunnn2004/mines-predictor/blob/main/Mines_predictor.ipynb\" target=\"_parent\"><img src=\"https://colab.research.google.com/assets/colab-badge.svg\" alt=\"Open In Colab\"/></a>"
      ]
    },
    {
      "cell_type": "code",
      "execution_count": 2,
      "metadata": {
        "colab": {
          "base_uri": "https://localhost:8080/"
        },
        "id": "Wk_r7ilnI8Ca",
        "outputId": "4d55b497-60b9-4924-d6c2-5e7e3e38e793"
      },
      "outputs": [
        {
          "output_type": "stream",
          "name": "stdout",
          "text": [
            "\n",
            "Classification Report:\n",
            "              precision    recall  f1-score   support\n",
            "\n",
            "        Mine       1.00      1.00      1.00        29\n",
            "        Rock       1.00      1.00      1.00        31\n",
            "\n",
            "    accuracy                           1.00        60\n",
            "   macro avg       1.00      1.00      1.00        60\n",
            "weighted avg       1.00      1.00      1.00        60\n",
            "\n",
            "\n",
            " Enter 60 sonar feature values (separated by spaces):\n",
            "0.42 0.39 0.35 0.41 0.38 0.44 0.36 0.40 0.43 0.37 0.39 0.41 0.36 0.35 0.42 0.38 0.40 0.37 0.44 0.39 0.41 0.35 0.38 0.42 0.36 0.40 0.43 0.39 0.35 0.41 0.38 0.44 0.37 0.40 0.36 0.42 0.39 0.43 0.35 0.40 0.41 0.37 0.38 0.44 0.36 0.39 0.42 0.35 0.40 0.38 0.43 0.37 0.39 0.41 0.36 0.40 0.38 0.42 0.35 0.44\n",
            "\n",
            " Prediction: The object is a **Rock**.\n"
          ]
        }
      ],
      "source": [
        "import pandas as pd\n",
        "from sklearn.model_selection import train_test_split\n",
        "from sklearn.preprocessing import StandardScaler, LabelEncoder\n",
        "from sklearn.linear_model import LogisticRegression\n",
        "from sklearn.metrics import classification_report\n",
        "import numpy as np\n",
        "\n",
        "df = pd.read_csv(\"mines_predictor_dataset.csv\")\n",
        "X = df.drop(\"Label\", axis=1)\n",
        "y = df[\"Label\"]\n",
        "\n",
        "le = LabelEncoder()\n",
        "y_encoded = le.fit_transform(y)\n",
        "\n",
        "X_train, X_test, y_train, y_test = train_test_split(\n",
        "    X, y_encoded, test_size=0.2, random_state=42\n",
        ")\n",
        "\n",
        "scaler = StandardScaler()\n",
        "X_train_scaled = scaler.fit_transform(X_train)\n",
        "X_test_scaled = scaler.transform(X_test)\n",
        "\n",
        "model = LogisticRegression()\n",
        "model.fit(X_train_scaled, y_train)\n",
        "\n",
        "print(\"\\nClassification Report:\")\n",
        "print(classification_report(y_test, model.predict(X_test_scaled), target_names=le.classes_))\n",
        "\n",
        "print(\"\\n Enter 60 sonar feature values (separated by spaces):\")\n",
        "user_input = list(map(float, input().split()))\n",
        "user_input_df = pd.DataFrame([user_input], columns=X.columns)\n",
        "user_input_scaled = scaler.transform(user_input_df)\n",
        "\n",
        "prediction = model.predict(user_input_scaled)[0]\n",
        "predicted_label = le.inverse_transform([prediction])[0]\n",
        "\n",
        "print(f\"\\n Prediction: The object is a **{predicted_label}**.\")\n",
        "\n"
      ]
    }
  ]
}